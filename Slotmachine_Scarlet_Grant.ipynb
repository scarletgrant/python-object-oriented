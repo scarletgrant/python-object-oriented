{
 "cells": [
  {
   "cell_type": "markdown",
   "metadata": {},
   "source": [
    "## Slot Machine\n",
    "\n",
    "A simple command line version of a slot machine is created. The slot machine consists of three columns that display one of three fruits: 🍎🍐🍊. When the slot machine begins, the player is asked to place a bet from their initial credit (which is 10 by default).  \n",
    "\n",
    "For each play of the slot machine there are three possible outcomes:\n",
    "1. Full house – all 3 columns contain the same value. Player wins an amount equal to the bet and this is added to their credit.\n",
    "2. Half house – 2 of the 3 columns contain the same value. Player wins half the amount bet.\n",
    "3. Empty house - all 3 columns contain different values. Player loses bet.\n",
    "\n",
    "An emoji package is used for this game. To install please use: pip install emoji --upgrade"
   ]
  },
  {
   "cell_type": "markdown",
   "metadata": {},
   "source": [
    "### Structure\n",
    "As by requirement, 3 classes with methods and 1 function have been created: \n",
    "\n",
    "**1. Purse**: It has a balance that is initialized to 10. Purse manages the players credit, whit 3 methods: \n",
    "1. get_balance\n",
    "2. debit\n",
    "3. credit\n",
    "\n",
    "**2. Column**: Supplies the face of each column with fruits. It has 1 method that changes the fruit randomly when the pull_handle method on Slot is invoked: \n",
    "1. change_face\n",
    "\n",
    "**3. Slot**: Each Slot has three Columns representing 3 fruits. Slot has 4 methods: \n",
    "1. pull_handle\n",
    "2. take_bet\n",
    "3. show_slot\n",
    "4. score_slot\n",
    "\n",
    "**One funtion to run the machine: run_slot_machine**\n",
    "\n",
    "As per requirement this function validates the input (integer number between 2 and the available credit) and runs the game. When the slot machine begins, the player is asked to place a bet from their initial credit (defaults to 10).  \n",
    "When the user types 'N', the game stops.\n",
    "It is chosen to use exception handling here.\n"
   ]
  },
  {
   "cell_type": "code",
   "execution_count": null,
   "metadata": {},
   "outputs": [],
   "source": [
    "# Slot machine can choose emoji's randomly\n",
    "import emoji\n",
    "from random import choice"
   ]
  },
  {
   "cell_type": "code",
   "execution_count": null,
   "metadata": {},
   "outputs": [],
   "source": [
    "# The balance, debits and credits can all be managed with each Purse\n",
    "class Purse():\n",
    "    def __init__(self, balance = 10):\n",
    "        self.balance = balance\n",
    "\n",
    "    def get_balance(self):\n",
    "        return self.balance\n",
    "\n",
    "    def debit(self, balance):\n",
    "        self.balance = balance  \n",
    "    \n",
    "    def credit(self, credited_money):\n",
    "        self.balance += credited_money      "
   ]
  },
  {
   "cell_type": "code",
   "execution_count": null,
   "metadata": {},
   "outputs": [],
   "source": [
    "# Columns can assign itself (and change) it's face after being invoked by the pull_handle in the slot\n",
    "class Column():\n",
    "    faces = [emoji.emojize(':red_apple:'), emoji.emojize(':pear:'), emoji.emojize(':tangerine:')]\n",
    "    \n",
    "    def __init__(self):\n",
    "        self.face = choice(self.faces)\n",
    "    \n",
    "    def change_face(self):\n",
    "        self.face = choice(self.faces)    "
   ]
  },
  {
   "cell_type": "code",
   "execution_count": null,
   "metadata": {},
   "outputs": [],
   "source": [
    "# Each Slot will run 3 columns: pull the handle, take the bet, show the slot and calculate score\n",
    "class Slot():\n",
    "    def __init__(self):\n",
    "        purse_object = Purse()\n",
    "        self.purse = purse_object\n",
    "        self.column_x = Column()\n",
    "        self.column_y = Column()\n",
    "        self.column_z = Column()\n",
    "    \n",
    "    def pull_handle(self):\n",
    "        self.column_x.change_face()\n",
    "        self.column_y.change_face()\n",
    "        self.column_z.change_face()\n",
    "        self.show_slot()\n",
    "    \n",
    "    def take_bet(self, bet):\n",
    "        old_balance = self.purse.get_balance()\n",
    "        self.purse.debit(old_balance - bet)\n",
    "    \n",
    "    def show_slot(self):\n",
    "        print(self.column_x.face, self.column_y.face, self.column_z.face)\n",
    "    \n",
    "    def score_slot(self, bet):\n",
    "        if self.column_x.face == self.column_y.face and self.column_y.face == self.column_z.face:\n",
    "            score = bet * 2\n",
    "            self.purse.credit(score)\n",
    "        elif self.column_x.face == self.column_y.face or self.column_x.face == self.column_z.face or self.column_y.face == self.column_z.face:   \n",
    "            score = bet * 1.5\n",
    "            self.purse.credit(score)\n",
    "        else:\n",
    "            score = 0\n",
    "            self.purse.credit(score)\n",
    "        return score"
   ]
  },
  {
   "cell_type": "code",
   "execution_count": null,
   "metadata": {},
   "outputs": [],
   "source": [
    "# One function to run the program/slot machine\n",
    "def run_slot_machine():        \n",
    "    userSlot = Slot()\n",
    "    print(\"========== SLOT MACHINE ==========\")\n",
    "    print(\"Minimum bet is 2. Type 'N' to exit.\")\n",
    "    print(\"You have\", userSlot.purse.get_balance())\n",
    "    print(\"\")\n",
    "    \n",
    "    bet = 0\n",
    "    min_bet = 2\n",
    "    wants_to_play = True\n",
    "    \n",
    "    while wants_to_play:\n",
    "        bet = input(\"How much do you bet: \")\n",
    "        if bet == 'N' or bet == 'n':\n",
    "            wants_to_play = False\n",
    "        else:\n",
    "            if bet.isdigit():\n",
    "                bet = int(bet)\n",
    "                userSlot.take_bet(bet)\n",
    "                userSlot.pull_handle()\n",
    "                new_balance = userSlot.purse.get_balance()\n",
    "                print(\"Your Score\",userSlot.score_slot(bet), \"- You have\", '%.2f' % userSlot.purse.get_balance())\n",
    "                print()\n",
    "                if userSlot.purse.get_balance() < min_bet:\n",
    "                    print(\"You are leaving with\", '%.2f' % userSlot.purse.get_balance())\n",
    "                    wants_to_play = False"
   ]
  },
  {
   "cell_type": "code",
   "execution_count": null,
   "metadata": {},
   "outputs": [],
   "source": [
    "# One call to run the slot machine\n",
    "run_slot_machine()"
   ]
  }
 ],
 "metadata": {
  "kernelspec": {
   "display_name": "Python 3",
   "language": "python",
   "name": "python3"
  },
  "language_info": {
   "codemirror_mode": {
    "name": "ipython",
    "version": 3
   },
   "file_extension": ".py",
   "mimetype": "text/x-python",
   "name": "python",
   "nbconvert_exporter": "python",
   "pygments_lexer": "ipython3",
   "version": "3.7.0"
  }
 },
 "nbformat": 4,
 "nbformat_minor": 2
}
